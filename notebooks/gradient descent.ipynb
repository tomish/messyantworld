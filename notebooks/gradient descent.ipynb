{
 "cells": [
  {
   "cell_type": "markdown",
   "metadata": {},
   "source": [
    "Just an algorithm that will start from each pixel in the map and follow the gradient"
   ]
  },
  {
   "cell_type": "code",
   "execution_count": 4,
   "metadata": {
    "collapsed": true
   },
   "outputs": [],
   "source": [
    "import numpy as np\n",
    "import scipy as sp"
   ]
  },
  {
   "cell_type": "code",
   "execution_count": 5,
   "metadata": {
    "collapsed": true
   },
   "outputs": [],
   "source": [
    "def gradient_descent(M, step=0.1, n_steps=10000):\n",
    "    \n",
    "    xs = np.arange(0, M.shape[0])\n",
    "    ys = np.arange(0, M.shape[1])\n",
    "    \n",
    "    spl = sp.interpolate.RectBivariateSpline(xs, ys, M)\n",
    "    \n",
    "    XS, YS = np.mgrid[0:M.shape[0], 0:M.shape[1]]\n",
    "    x = XS.astype(np.float64).reshape(-1)\n",
    "    y = YS.astype(np.float64).reshape(-1)\n",
    "\n",
    "    for i in range(n_steps):\n",
    "        dx = spl(x=x, y=y, dx=1, grid=False)\n",
    "        dy = spl(x=x, y=y, dy=1, grid=False)\n",
    "\n",
    "        x -= step * dx\n",
    "        np.clip(x, 0, M.shape[0]-1, out=x)\n",
    "\n",
    "        y -= step * dy\n",
    "        np.clip(y, 0, M.shape[1]-1, out=y)\n",
    "        \n",
    "    return (x, y)"
   ]
  },
  {
   "cell_type": "code",
   "execution_count": null,
   "metadata": {
    "collapsed": true
   },
   "outputs": [],
   "source": []
  }
 ],
 "metadata": {
  "kernelspec": {
   "display_name": "Python 2",
   "language": "python",
   "name": "python2"
  },
  "language_info": {
   "codemirror_mode": {
    "name": "ipython",
    "version": 2
   },
   "file_extension": ".py",
   "mimetype": "text/x-python",
   "name": "python",
   "nbconvert_exporter": "python",
   "pygments_lexer": "ipython2",
   "version": "2.7.6"
  }
 },
 "nbformat": 4,
 "nbformat_minor": 0
}

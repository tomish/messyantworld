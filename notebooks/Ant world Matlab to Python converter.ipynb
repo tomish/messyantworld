{
 "cells": [
  {
   "cell_type": "code",
   "execution_count": 19,
   "metadata": {
    "collapsed": false
   },
   "outputs": [
    {
     "name": "stdout",
     "output_type": "stream",
     "text": [
      "The autoreload extension is already loaded. To reload it, use:\n",
      "  %reload_ext autoreload\n",
      "/Users/tomish/Projects\n",
      "/Users/tomish/Projects/antworld\n"
     ]
    }
   ],
   "source": [
    "%load_ext autoreload\n",
    "%autoreload 2\n",
    "\n",
    "# Set working directory to parent directory\n",
    "%cd ..\n",
    "sky_slam_path = str(_dh[1]) # Store second entry in dir history so we always revert there (hacky!)\n",
    "%cd $sky_slam_path"
   ]
  },
  {
   "cell_type": "code",
   "execution_count": 20,
   "metadata": {
    "collapsed": true
   },
   "outputs": [],
   "source": [
    "import os\n",
    "import re\n",
    "import numpy as np\n",
    "import scipy as sp\n",
    "import scipy.io as sio # To import Matlab stuff"
   ]
  },
  {
   "cell_type": "code",
   "execution_count": 21,
   "metadata": {
    "collapsed": false
   },
   "outputs": [],
   "source": [
    "world_folder = 'data/seville'\n",
    "world_name = 'world5000_gray'\n",
    "ml_file_name = os.path.join(world_folder, world_name + '.mat')\n",
    "matlab_world  = sio.loadmat(ml_file_name)"
   ]
  },
  {
   "cell_type": "markdown",
   "metadata": {},
   "source": [
    "Remove items from dictionary where key starts with double underscore "
   ]
  },
  {
   "cell_type": "code",
   "execution_count": 22,
   "metadata": {
    "collapsed": false
   },
   "outputs": [],
   "source": [
    "data_matrices = dict((k, v) for k, v in matlab_world.items() if not re.search(\"__[A-Za-z0-9]*\", k))"
   ]
  },
  {
   "cell_type": "markdown",
   "metadata": {},
   "source": [
    "Save compressed numpy file"
   ]
  },
  {
   "cell_type": "code",
   "execution_count": 23,
   "metadata": {
    "collapsed": false
   },
   "outputs": [],
   "source": [
    "np_file_name = os.path.join(world_folder, world_name + '.npz')\n",
    "np.savez_compressed(np_file_name, **data_matrices)"
   ]
  },
  {
   "cell_type": "markdown",
   "metadata": {},
   "source": [
    "Test it works by loading again"
   ]
  },
  {
   "cell_type": "code",
   "execution_count": 24,
   "metadata": {
    "collapsed": false
   },
   "outputs": [
    {
     "name": "stdout",
     "output_type": "stream",
     "text": [
      "[[ 7.99211326  8.08788674  7.84891257]\n",
      " [ 8.8244461   8.8555539   8.77173313]\n",
      " [ 8.60982153  8.51017847  8.39728369]\n",
      " ..., \n",
      " [ 8.72741478  8.81258522  8.74761589]\n",
      " [ 0.09166514  0.16833486  0.28047766]\n",
      " [ 2.90354858  2.99645142  3.1518319 ]]\n",
      "[[ 9.10438262  9.07561738  9.1377172 ]\n",
      " [ 7.12751922  7.03248078  7.14167196]\n",
      " [ 4.07577917  4.08422083  4.01881486]\n",
      " ..., \n",
      " [ 7.21620113  7.16379887  7.23285756]\n",
      " [ 5.91789955  5.98210045  5.93105249]\n",
      " [ 6.74850042  6.71149958  6.79068952]]\n",
      "[[ 0.          0.          0.05406266]\n",
      " [ 0.          0.          0.15061429]\n",
      " [ 0.          0.          0.14862644]\n",
      " ..., \n",
      " [ 0.          0.          0.18883355]\n",
      " [ 0.          0.          0.35842479]\n",
      " [ 0.          0.          0.0688574 ]]\n",
      "[[ 0.33816725  0.33816725  0.33816725]\n",
      " [ 0.34506611  0.34506611  0.34506611]\n",
      " [ 0.36240004  0.36240004  0.36240004]\n",
      " ..., \n",
      " [ 0.49155629  0.49155629  0.49155629]\n",
      " [ 0.57588239  0.57588239  0.57588239]\n",
      " [ 0.49515778  0.49515778  0.49515778]]\n"
     ]
    }
   ],
   "source": [
    "data = np.load(np_file_name)\n",
    "print data['X']\n",
    "print data['Y']\n",
    "print data['Z']\n",
    "print data['colp'] # This isn't in all the ant worlds. Is colour information"
   ]
  }
 ],
 "metadata": {
  "kernelspec": {
   "display_name": "Python 2",
   "language": "python",
   "name": "python2"
  },
  "language_info": {
   "codemirror_mode": {
    "name": "ipython",
    "version": 2
   },
   "file_extension": ".py",
   "mimetype": "text/x-python",
   "name": "python",
   "nbconvert_exporter": "python",
   "pygments_lexer": "ipython2",
   "version": "2.7.9"
  }
 },
 "nbformat": 4,
 "nbformat_minor": 0
}
